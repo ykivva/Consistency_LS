{
 "cells": [
  {
   "cell_type": "code",
   "execution_count": 17,
   "metadata": {},
   "outputs": [],
   "source": [
    "import torch\n",
    "import torch.nn as nn\n",
    "from torch.utils.data import Dataset, DataLoader\n",
    "from utils import elapsed\n",
    "\n",
    "# Parameters and DataLoaders\n",
    "input_size = 10\n",
    "output_size = 1\n",
    "mid_size = 256*75\n",
    "\n",
    "batch_size = 32\n",
    "data_size = 1024"
   ]
  },
  {
   "cell_type": "code",
   "execution_count": 58,
   "metadata": {},
   "outputs": [],
   "source": [
    "x = torch.tensor([1], requires_grad=True, dtype=torch.float)\n",
    "y = torch.tensor([3], requires_grad=False, dtype=torch.float)\n",
    "y.requires_grad=True\n",
    "z = x*y"
   ]
  },
  {
   "cell_type": "code",
   "execution_count": 10,
   "metadata": {},
   "outputs": [
    {
     "data": {
      "text/plain": [
       "array([[1, 1],\n",
       "       [3, 2]])"
      ]
     },
     "execution_count": 10,
     "metadata": {},
     "output_type": "execute_result"
    }
   ],
   "source": [
    "import numpy as np\n",
    "a = [1,3,]\n",
    "b = [1, 2]\n",
    "np.stack([a, b], axis=1)"
   ]
  },
  {
   "cell_type": "code",
   "execution_count": 59,
   "metadata": {},
   "outputs": [
    {
     "name": "stdout",
     "output_type": "stream",
     "text": [
      "tensor([3.])\n",
      "tensor([9.])\n"
     ]
    }
   ],
   "source": [
    "y.requires_grad=False\n",
    "z2 = 2*z\n",
    "y.requires_grad = True\n",
    "z0 = z2+z\n",
    "z0.backward()\n",
    "print(y.grad)\n",
    "print(x.grad)"
   ]
  },
  {
   "cell_type": "code",
   "execution_count": 1,
   "metadata": {},
   "outputs": [],
   "source": [
    "from collections import defaultdict"
   ]
  },
  {
   "cell_type": "code",
   "execution_count": 5,
   "metadata": {},
   "outputs": [],
   "source": [
    "a = defaultdict(lambda:0)"
   ]
  },
  {
   "cell_type": "code",
   "execution_count": 32,
   "metadata": {},
   "outputs": [
    {
     "name": "stdout",
     "output_type": "stream",
     "text": [
      "tensor([3.]) False\n",
      "None True\n",
      "None False\n"
     ]
    }
   ],
   "source": [
    "print(z, z.requires_grad)\n",
    "print(x.grad, x.requires_grad)\n",
    "print(y.grad, y.requires_grad)"
   ]
  },
  {
   "cell_type": "code",
   "execution_count": 18,
   "metadata": {},
   "outputs": [],
   "source": [
    "device = torch.device(\"cuda\" if torch.cuda.is_available() else \"cpu\")\n",
    "DEVICE = torch.device(\"cuda\" if torch.cuda.is_available() else \"cpu\")\n",
    "USE_CUDA = torch.cuda.is_available()\n"
   ]
  },
  {
   "cell_type": "code",
   "execution_count": 19,
   "metadata": {},
   "outputs": [],
   "source": [
    "class RandomDataset(Dataset):\n",
    "\n",
    "    def __init__(self, size, length):\n",
    "        self.len = length\n",
    "        self.data = torch.randn(length, size)\n",
    "\n",
    "    def __getitem__(self, index):\n",
    "        return self.data[index]\n",
    "\n",
    "    def __len__(self):\n",
    "        return self.len\n",
    "\n",
    "rand_loader = DataLoader(dataset=RandomDataset(input_size, data_size),\n",
    "                         batch_size=batch_size, shuffle=True)"
   ]
  },
  {
   "cell_type": "code",
   "execution_count": 20,
   "metadata": {},
   "outputs": [],
   "source": [
    "class BigModel(nn.Module):\n",
    "    def __init__(self, input_size, middle_size, output_size, num_middle=10):\n",
    "        super(BigModel, self).__init__()\n",
    "        self.fc_start = nn.Linear(input_size, middle_size)\n",
    "        self.fc_end = nn.Linear(middle_size, output_size)\n",
    "        self.fcs = [nn.Linear(middle_size, middle_size) for i in range(num_middle)]\n",
    "        self.fcs = nn.ModuleList(self.fcs)\n",
    "    \n",
    "    def forward(self, x_in):\n",
    "        x = self.fc_start(x_in)\n",
    "        for fc in self.fcs:\n",
    "            x = fc(x)\n",
    "        x_out = self.fc_end(x)\n",
    "        return x_out"
   ]
  },
  {
   "cell_type": "code",
   "execution_count": 25,
   "metadata": {},
   "outputs": [
    {
     "name": "stdout",
     "output_type": "stream",
     "text": [
      "164.05830335617065\n",
      "0.0053861141204833984\n",
      "0.4052426815032959\n",
      "0.4063069820404053\n",
      "0.4051856994628906\n",
      "0.40535998344421387\n",
      "0.4057154655456543\n",
      "0.4060182571411133\n",
      "0.4053957462310791\n",
      "0.406146764755249\n",
      "0.4050769805908203\n",
      "0.404926061630249\n",
      "0.4053800106048584\n",
      "0.4066636562347412\n",
      "0.4049513339996338\n",
      "0.40500497817993164\n",
      "0.406219482421875\n",
      "0.4051966667175293\n",
      "0.40551066398620605\n",
      "0.40559887886047363\n",
      "0.4051215648651123\n",
      "0.40535926818847656\n",
      "0.4054572582244873\n",
      "0.4053053855895996\n",
      "0.40537190437316895\n",
      "0.40584850311279297\n",
      "0.405353307723999\n",
      "0.4062035083770752\n",
      "0.4052464962005615\n",
      "0.40541982650756836\n",
      "0.4055655002593994\n",
      "0.40627193450927734\n",
      "0.4055156707763672\n"
     ]
    }
   ],
   "source": [
    "model = BigModel(input_size, mid_size, output_size)\n",
    "model_par = model.to(DEVICE)\n",
    "model_par = nn.DataParallel(model_par)\n",
    "print(elapsed())\n",
    "for data in rand_loader:\n",
    "    data.to(DEVICE)\n",
    "    x_out = model_par(data)\n",
    "    print(elapsed())"
   ]
  },
  {
   "cell_type": "code",
   "execution_count": 33,
   "metadata": {},
   "outputs": [
    {
     "ename": "ModuleAttributeError",
     "evalue": "'BigModel' object has no attribute 'requires_grad'",
     "output_type": "error",
     "traceback": [
      "\u001b[0;31m---------------------------------------------------------------------------\u001b[0m",
      "\u001b[0;31mModuleAttributeError\u001b[0m                      Traceback (most recent call last)",
      "\u001b[0;32m<ipython-input-33-034d0cb3a066>\u001b[0m in \u001b[0;36m<module>\u001b[0;34m\u001b[0m\n\u001b[0;32m----> 1\u001b[0;31m \u001b[0mmodel\u001b[0m\u001b[0;34m.\u001b[0m\u001b[0mrequires_grad\u001b[0m\u001b[0;34m\u001b[0m\u001b[0;34m\u001b[0m\u001b[0m\n\u001b[0m",
      "\u001b[0;32m~/miniconda/envs/py38/lib/python3.8/site-packages/torch/nn/modules/module.py\u001b[0m in \u001b[0;36m__getattr__\u001b[0;34m(self, name)\u001b[0m\n\u001b[1;32m    769\u001b[0m             \u001b[0;32mif\u001b[0m \u001b[0mname\u001b[0m \u001b[0;32min\u001b[0m \u001b[0mmodules\u001b[0m\u001b[0;34m:\u001b[0m\u001b[0;34m\u001b[0m\u001b[0;34m\u001b[0m\u001b[0m\n\u001b[1;32m    770\u001b[0m                 \u001b[0;32mreturn\u001b[0m \u001b[0mmodules\u001b[0m\u001b[0;34m[\u001b[0m\u001b[0mname\u001b[0m\u001b[0;34m]\u001b[0m\u001b[0;34m\u001b[0m\u001b[0;34m\u001b[0m\u001b[0m\n\u001b[0;32m--> 771\u001b[0;31m         raise ModuleAttributeError(\"'{}' object has no attribute '{}'\".format(\n\u001b[0m\u001b[1;32m    772\u001b[0m             type(self).__name__, name))\n\u001b[1;32m    773\u001b[0m \u001b[0;34m\u001b[0m\u001b[0m\n",
      "\u001b[0;31mModuleAttributeError\u001b[0m: 'BigModel' object has no attribute 'requires_grad'"
     ]
    }
   ],
   "source": [
    "model.requires_grad"
   ]
  },
  {
   "cell_type": "code",
   "execution_count": 24,
   "metadata": {},
   "outputs": [
    {
     "name": "stdout",
     "output_type": "stream",
     "text": [
      "82.37031841278076\n",
      "0.007927417755126953\n",
      "0.40496182441711426\n",
      "0.40456485748291016\n",
      "0.4055190086364746\n",
      "0.40537595748901367\n",
      "0.40589046478271484\n",
      "0.40517401695251465\n",
      "0.40515756607055664\n",
      "0.40506720542907715\n",
      "0.40549278259277344\n",
      "0.40499114990234375\n",
      "0.4064645767211914\n",
      "0.405442476272583\n",
      "0.40474605560302734\n",
      "0.40587282180786133\n",
      "0.40639567375183105\n",
      "0.4050109386444092\n",
      "0.40500903129577637\n",
      "0.40532445907592773\n",
      "0.4060356616973877\n",
      "0.4056215286254883\n",
      "0.4058549404144287\n",
      "0.4057583808898926\n",
      "0.40545058250427246\n",
      "0.4052088260650635\n",
      "0.4052591323852539\n",
      "0.40569472312927246\n",
      "0.40560317039489746\n",
      "0.4056422710418701\n",
      "0.40529441833496094\n",
      "0.40564727783203125\n",
      "0.4048326015472412\n"
     ]
    }
   ],
   "source": [
    "model = BigModel(input_size, mid_size, output_size)\n",
    "model_par = model.to(DEVICE)\n",
    "model_par = nn.DataParallel(model_par)\n",
    "print(elapsed())\n",
    "for data in rand_loader:\n",
    "    data.to(DEVICE)\n",
    "    with torch.no_grad():\n",
    "        x_out = model_par(data)\n",
    "    print(elapsed())"
   ]
  },
  {
   "cell_type": "code",
   "execution_count": 22,
   "metadata": {},
   "outputs": [],
   "source": [
    "class Model(nn.Module):\n",
    "    # Our model\n",
    "\n",
    "    def __init__(self, input_size, output_size):\n",
    "        super(Model, self).__init__()\n",
    "        self.in_size = input_size\n",
    "        self.out_size = output_size\n",
    "        self.fc1 = nn.Linear(input_size, input_size)\n",
    "        self.fc = nn.Linear(input_size, output_size)\n",
    "\n",
    "    def forward(self, input):\n",
    "        output = self.fc(self.fc1(input))\n",
    "        print(\"\\tIn Model: input size\", input.size(),\n",
    "              \"output size\", output.size())\n",
    "\n",
    "        return output\n",
    "    \n",
    "    def save(self):\n",
    "        print(\"hell year\")"
   ]
  },
  {
   "cell_type": "code",
   "execution_count": 23,
   "metadata": {},
   "outputs": [],
   "source": [
    "model = Model(input_size, output_size)\n",
    "optim = torch.optim.Adam(model.parameters(), lr=3e-1, weight_decay=2e-6, amsgrad=True)"
   ]
  },
  {
   "cell_type": "code",
   "execution_count": 11,
   "metadata": {},
   "outputs": [
    {
     "name": "stdout",
     "output_type": "stream",
     "text": [
      "Parameter containing:\n",
      "tensor([[ 0.2712, -0.1001,  0.2892,  0.3707,  0.2015],\n",
      "        [ 0.0549, -0.2165,  0.2439,  0.3563,  0.0879],\n",
      "        [-0.2075,  0.2502, -0.1503,  0.2665,  0.3101],\n",
      "        [ 0.3449, -0.0920, -0.0448,  0.4290,  0.2583],\n",
      "        [ 0.2845,  0.0279, -0.1769,  0.2498,  0.0594]], requires_grad=True)\n",
      "Parameter containing:\n",
      "tensor([ 0.0017,  0.0636,  0.1402,  0.3010, -0.0706], requires_grad=True)\n",
      "Parameter containing:\n",
      "tensor([[ 0.0358, -0.0594,  0.1209, -0.1628, -0.0356]], requires_grad=True)\n",
      "Parameter containing:\n",
      "tensor([0.0473], requires_grad=True)\n"
     ]
    }
   ],
   "source": [
    "for i in model.parameters():\n",
    "    print(i)"
   ]
  },
  {
   "cell_type": "code",
   "execution_count": 12,
   "metadata": {},
   "outputs": [],
   "source": [
    "data_it = iter(rand_loader)\n",
    "data = next(data_it)"
   ]
  },
  {
   "cell_type": "code",
   "execution_count": 13,
   "metadata": {},
   "outputs": [
    {
     "name": "stdout",
     "output_type": "stream",
     "text": [
      "\tIn Model: input size torch.Size([30, 5]) output size torch.Size([30, 1])\n"
     ]
    }
   ],
   "source": [
    "res = model(data)\n",
    "res = torch.sum(res)"
   ]
  },
  {
   "cell_type": "code",
   "execution_count": 14,
   "metadata": {},
   "outputs": [
    {
     "name": "stdout",
     "output_type": "stream",
     "text": [
      "Parameter containing:\n",
      "tensor([[ 0.2712, -0.1001,  0.2892,  0.3707,  0.2015],\n",
      "        [ 0.0549, -0.2165,  0.2439,  0.3563,  0.0879],\n",
      "        [-0.2075,  0.2502, -0.1503,  0.2665,  0.3101],\n",
      "        [ 0.3449, -0.0920, -0.0448,  0.4290,  0.2583],\n",
      "        [ 0.2845,  0.0279, -0.1769,  0.2498,  0.0594]], requires_grad=True)\n",
      "Parameter containing:\n",
      "tensor([ 0.0017,  0.0636,  0.1402,  0.3010, -0.0706], requires_grad=True)\n"
     ]
    }
   ],
   "source": [
    "for i in model.fc1.parameters():\n",
    "    i.requires_grad = True\n",
    "    print(i)"
   ]
  },
  {
   "cell_type": "code",
   "execution_count": 15,
   "metadata": {},
   "outputs": [],
   "source": [
    "res.backward(retain_graph=True)"
   ]
  },
  {
   "cell_type": "code",
   "execution_count": 17,
   "metadata": {},
   "outputs": [
    {
     "name": "stdout",
     "output_type": "stream",
     "text": [
      "Parameter containing:\n",
      "tensor([[ 0.2712, -0.1001,  0.2892,  0.3707,  0.2015],\n",
      "        [ 0.0549, -0.2165,  0.2439,  0.3563,  0.0879],\n",
      "        [-0.2075,  0.2502, -0.1503,  0.2665,  0.3101],\n",
      "        [ 0.3449, -0.0920, -0.0448,  0.4290,  0.2583],\n",
      "        [ 0.2845,  0.0279, -0.1769,  0.2498,  0.0594]])\n",
      "Parameter containing:\n",
      "tensor([ 0.0017,  0.0636,  0.1402,  0.3010, -0.0706])\n"
     ]
    }
   ],
   "source": [
    "for i in model.fc1.parameters():\n",
    "    i.requires_grad = False\n",
    "    i.grad.data\n",
    "    print(i)"
   ]
  },
  {
   "cell_type": "code",
   "execution_count": 41,
   "metadata": {},
   "outputs": [
    {
     "ename": "RuntimeError",
     "evalue": "one of the variables needed for gradient computation has been modified by an inplace operation: [torch.FloatTensor [5, 1]], which is output 0 of TBackward, is at version 2; expected version 1 instead. Hint: enable anomaly detection to find the operation that failed to compute its gradient, with torch.autograd.set_detect_anomaly(True).",
     "output_type": "error",
     "traceback": [
      "\u001b[0;31m---------------------------------------------------------------------------\u001b[0m",
      "\u001b[0;31mRuntimeError\u001b[0m                              Traceback (most recent call last)",
      "\u001b[0;32m<ipython-input-41-3cab716ad1cf>\u001b[0m in \u001b[0;36m<module>\u001b[0;34m\u001b[0m\n\u001b[0;32m----> 1\u001b[0;31m \u001b[0mres\u001b[0m\u001b[0;34m.\u001b[0m\u001b[0mbackward\u001b[0m\u001b[0;34m(\u001b[0m\u001b[0mretain_graph\u001b[0m\u001b[0;34m=\u001b[0m\u001b[0;32mTrue\u001b[0m\u001b[0;34m)\u001b[0m\u001b[0;34m\u001b[0m\u001b[0;34m\u001b[0m\u001b[0m\n\u001b[0m\u001b[1;32m      2\u001b[0m \u001b[0moptim\u001b[0m\u001b[0;34m.\u001b[0m\u001b[0mstep\u001b[0m\u001b[0;34m(\u001b[0m\u001b[0;34m)\u001b[0m\u001b[0;34m\u001b[0m\u001b[0;34m\u001b[0m\u001b[0m\n",
      "\u001b[0;32m~/miniconda/envs/py38/lib/python3.8/site-packages/torch/tensor.py\u001b[0m in \u001b[0;36mbackward\u001b[0;34m(self, gradient, retain_graph, create_graph)\u001b[0m\n\u001b[1;32m    183\u001b[0m                 \u001b[0mproducts\u001b[0m\u001b[0;34m.\u001b[0m \u001b[0mDefaults\u001b[0m \u001b[0mto\u001b[0m\u001b[0;31m \u001b[0m\u001b[0;31m`\u001b[0m\u001b[0;31m`\u001b[0m\u001b[0;32mFalse\u001b[0m\u001b[0;31m`\u001b[0m\u001b[0;31m`\u001b[0m\u001b[0;34m.\u001b[0m\u001b[0;34m\u001b[0m\u001b[0;34m\u001b[0m\u001b[0m\n\u001b[1;32m    184\u001b[0m         \"\"\"\n\u001b[0;32m--> 185\u001b[0;31m         \u001b[0mtorch\u001b[0m\u001b[0;34m.\u001b[0m\u001b[0mautograd\u001b[0m\u001b[0;34m.\u001b[0m\u001b[0mbackward\u001b[0m\u001b[0;34m(\u001b[0m\u001b[0mself\u001b[0m\u001b[0;34m,\u001b[0m \u001b[0mgradient\u001b[0m\u001b[0;34m,\u001b[0m \u001b[0mretain_graph\u001b[0m\u001b[0;34m,\u001b[0m \u001b[0mcreate_graph\u001b[0m\u001b[0;34m)\u001b[0m\u001b[0;34m\u001b[0m\u001b[0;34m\u001b[0m\u001b[0m\n\u001b[0m\u001b[1;32m    186\u001b[0m \u001b[0;34m\u001b[0m\u001b[0m\n\u001b[1;32m    187\u001b[0m     \u001b[0;32mdef\u001b[0m \u001b[0mregister_hook\u001b[0m\u001b[0;34m(\u001b[0m\u001b[0mself\u001b[0m\u001b[0;34m,\u001b[0m \u001b[0mhook\u001b[0m\u001b[0;34m)\u001b[0m\u001b[0;34m:\u001b[0m\u001b[0;34m\u001b[0m\u001b[0;34m\u001b[0m\u001b[0m\n",
      "\u001b[0;32m~/miniconda/envs/py38/lib/python3.8/site-packages/torch/autograd/__init__.py\u001b[0m in \u001b[0;36mbackward\u001b[0;34m(tensors, grad_tensors, retain_graph, create_graph, grad_variables)\u001b[0m\n\u001b[1;32m    123\u001b[0m         \u001b[0mretain_graph\u001b[0m \u001b[0;34m=\u001b[0m \u001b[0mcreate_graph\u001b[0m\u001b[0;34m\u001b[0m\u001b[0;34m\u001b[0m\u001b[0m\n\u001b[1;32m    124\u001b[0m \u001b[0;34m\u001b[0m\u001b[0m\n\u001b[0;32m--> 125\u001b[0;31m     Variable._execution_engine.run_backward(\n\u001b[0m\u001b[1;32m    126\u001b[0m         \u001b[0mtensors\u001b[0m\u001b[0;34m,\u001b[0m \u001b[0mgrad_tensors\u001b[0m\u001b[0;34m,\u001b[0m \u001b[0mretain_graph\u001b[0m\u001b[0;34m,\u001b[0m \u001b[0mcreate_graph\u001b[0m\u001b[0;34m,\u001b[0m\u001b[0;34m\u001b[0m\u001b[0;34m\u001b[0m\u001b[0m\n\u001b[1;32m    127\u001b[0m         allow_unreachable=True)  # allow_unreachable flag\n",
      "\u001b[0;31mRuntimeError\u001b[0m: one of the variables needed for gradient computation has been modified by an inplace operation: [torch.FloatTensor [5, 1]], which is output 0 of TBackward, is at version 2; expected version 1 instead. Hint: enable anomaly detection to find the operation that failed to compute its gradient, with torch.autograd.set_detect_anomaly(True)."
     ]
    }
   ],
   "source": [
    "res.backward(retain_graph=True)\n",
    "optim.step()"
   ]
  },
  {
   "cell_type": "code",
   "execution_count": 40,
   "metadata": {},
   "outputs": [
    {
     "name": "stdout",
     "output_type": "stream",
     "text": [
      "Parameter containing:\n",
      "tensor([[-0.0459,  0.7090,  0.4245,  0.1407, -0.3375],\n",
      "        [-0.6099,  0.4525, -0.0609,  0.2979,  0.0492],\n",
      "        [-0.0445, -0.6919, -0.0793,  0.0395, -0.0084],\n",
      "        [-0.0079, -0.0691, -0.0807, -0.5454,  0.4948],\n",
      "        [ 0.1155, -0.2570,  0.0363, -0.5015,  0.7034]], requires_grad=True)\n",
      "Parameter containing:\n",
      "tensor([-0.4320,  0.0135,  0.5419,  0.2562,  0.5430], requires_grad=True)\n"
     ]
    }
   ],
   "source": [
    "for i in model.fc1.parameters():\n",
    "    print(i)"
   ]
  },
  {
   "cell_type": "code",
   "execution_count": 15,
   "metadata": {},
   "outputs": [],
   "source": [
    "model = Model(input_size=3, output_size=1)"
   ]
  },
  {
   "cell_type": "code",
   "execution_count": 16,
   "metadata": {},
   "outputs": [],
   "source": [
    "model = nn.DataParallel(model)"
   ]
  },
  {
   "cell_type": "code",
   "execution_count": 5,
   "metadata": {},
   "outputs": [],
   "source": [
    "class ComplexModel(nn.Module):\n",
    "    \n",
    "    def __init__(self, block=[]):\n",
    "        super().__init__()\n",
    "        self.blocks = nn.ModuleList(block)\n",
    "    \n",
    "    def forward(self, x):\n",
    "        for model in self.blocks:\n",
    "            x = model(x)\n",
    "        return x"
   ]
  },
  {
   "cell_type": "code",
   "execution_count": 6,
   "metadata": {},
   "outputs": [],
   "source": [
    "class Transfer(nn.Module):\n",
    "    \n",
    "    def __init__(self, model):\n",
    "        super().__init__()\n",
    "        self.model = model\n",
    "    \n",
    "    def to_parallel(self):\n",
    "        self.model = self.model.to(DEVICE)\n",
    "        if USE_CUDA:\n",
    "            self.model = nn.DataParallel(self.model)\n",
    "    \n",
    "    def __call__(self, x):\n",
    "        self.to_parallel()\n",
    "        x = self.model(x)\n",
    "        return x"
   ]
  },
  {
   "cell_type": "code",
   "execution_count": 7,
   "metadata": {},
   "outputs": [],
   "source": [
    "class Graph(nn.Module):\n",
    "    \n",
    "    def __init__(self, in_size, mid_size, out_size):\n",
    "        super().__init__()\n",
    "        model1 = Model(in_size, mid_size)\n",
    "        model2 = Model(mid_size, out_size)\n",
    "        model3 = Model(mid_size, out_size)\n",
    "        self.edge_out = {str((in_size, mid_size)): model1}\n",
    "        self.edge_in = {str((mid_size, out_size))+\"1\": model2, str((mid_size, out_size))+\"2\": model3}\n",
    "        complex_model1 = ComplexModel(block=[self.edge_out[str((in_size, mid_size))], self.edge_in[str((mid_size, out_size))+\"1\"]]) \n",
    "        complex_model2 = ComplexModel(block=[self.edge_out[str((in_size, mid_size))], self.edge_in[str((mid_size, out_size))+\"2\"]])\n",
    "        \n",
    "#         self.params = {}\n",
    "#         self.params.update(self.edge_in)\n",
    "#         self.params.update(self.edge_out)\n",
    "        self.params = {\"1\":complex_model1, \"2\":complex_model2}\n",
    "        self.params = nn.ModuleDict(self.params)\n",
    "        print(self.params.keys())\n",
    "        #self.params = nn.ModuleDict(self.params)\n",
    "        #print(id(self.params[str((in_size, mid_size))]))\n",
    "        transfer1 = Transfer(complex_model1)\n",
    "        transfer2 = Transfer(complex_model2)\n",
    "        self.models = {\n",
    "            1: transfer1,\n",
    "            2: transfer2,\n",
    "        }\n",
    "\n",
    "    \n",
    "    def compute_path(self, data, paths=[1]):\n",
    "        for path in paths:\n",
    "            pred = self.models[path](data)\n",
    "        return pred\n",
    "        "
   ]
  },
  {
   "cell_type": "code",
   "execution_count": 124,
   "metadata": {},
   "outputs": [
    {
     "name": "stdout",
     "output_type": "stream",
     "text": [
      "odict_keys(['1', '2'])\n",
      "6\n"
     ]
    }
   ],
   "source": [
    "new_model = Graph(5, 3, 1)\n",
    "i = 0\n",
    "for param in new_model.parameters():\n",
    "    i+=1\n",
    "print(i)"
   ]
  },
  {
   "cell_type": "code",
   "execution_count": 118,
   "metadata": {},
   "outputs": [
    {
     "name": "stdout",
     "output_type": "stream",
     "text": [
      "odict_keys(['1', '2'])\n",
      "Parameter containing:\n",
      "tensor([[-0.0025,  0.4084, -0.0397,  0.1268, -0.1185],\n",
      "        [ 0.2268,  0.3659,  0.1232,  0.1255, -0.0987],\n",
      "        [-0.2927, -0.1250, -0.0806,  0.3706, -0.3717]], requires_grad=True)\n",
      "Parameter containing:\n",
      "tensor([-0.0472,  0.2329,  0.3608], requires_grad=True)\n",
      "Parameter containing:\n",
      "tensor([[-0.4971,  0.0874,  0.0073]], requires_grad=True)\n",
      "Parameter containing:\n",
      "tensor([-0.0401], requires_grad=True)\n",
      "Parameter containing:\n",
      "tensor([[ 0.2731, -0.1283, -0.2387]], requires_grad=True)\n",
      "Parameter containing:\n",
      "tensor([-0.1481], requires_grad=True)\n"
     ]
    }
   ],
   "source": [
    "new_model = Graph(5, 3, 1)\n",
    "i = 0\n",
    "for param in new_model.parameters():\n",
    "    i+=1\n",
    "print(i)"
   ]
  },
  {
   "cell_type": "code",
   "execution_count": 72,
   "metadata": {},
   "outputs": [
    {
     "name": "stdout",
     "output_type": "stream",
     "text": [
      "139955367158544\n",
      "139955367158544\n",
      "OrderedDict([('params.(3, 1)1.fc.weight', tensor([[ 0.2868,  0.4138, -0.3961]])), ('params.(3, 1)1.fc.bias', tensor([-0.2932])), ('params.(3, 1)2.fc.weight', tensor([[0.0177, 0.4977, 0.1249]])), ('params.(3, 1)2.fc.bias', tensor([-0.2039])), ('params.(5, 3).fc.weight', tensor([[ 0.4354,  0.4455, -0.3568, -0.1309,  0.1331],\n",
      "        [-0.2123,  0.0450,  0.2694,  0.1094, -0.0351],\n",
      "        [-0.3255, -0.4168,  0.2886,  0.0686,  0.4170]])), ('params.(5, 3).fc.bias', tensor([ 0.2080, -0.0991, -0.0649]))])\n"
     ]
    }
   ],
   "source": [
    "new_model = Graph(5, 3, 1)\n",
    "\n",
    "print(new_model.state_dict())"
   ]
  },
  {
   "cell_type": "code",
   "execution_count": 91,
   "metadata": {},
   "outputs": [
    {
     "name": "stdout",
     "output_type": "stream",
     "text": [
      "\tIn Model: input size torch.Size([15, 5]) output size torch.Size([15, 3])\n",
      "\tIn Model: input size torch.Size([15, 5]) output size torch.Size([15, 3])\n",
      "\tIn Model: input size\tIn Model: input size torch.Size([15, 3]) output size torch.Size([15, 1])\n",
      " torch.Size([15, 3]) output size torch.Size([15, 1])\n",
      "\tIn Model: input size \tIn Model: input size torch.Size([15, 5]) output size torch.Size([15, 3])\n",
      "torch.Size([15, 5]) output size torch.Size([15, 3])\n",
      "\tIn Model: input size torch.Size([15, 3]) output size torch.Size([15, 1])\n",
      "\tIn Model: input size torch.Size([15, 3]) output size torch.Size([15, 1])\n",
      "tensor([[ 0.0142, -0.0033, -0.0102,  0.0031,  0.0053],\n",
      "        [ 0.0134, -0.0031, -0.0097,  0.0030,  0.0050],\n",
      "        [ 0.1034, -0.0237, -0.0744,  0.0228,  0.0383]], device='cuda:0')\n",
      "Outside: input size torch.Size([30, 5]) output_size torch.Size([30, 1])\n",
      "\tIn Model: input size torch.Size([8, 5]) output size torch.Size([8, 3])\n",
      "\tIn Model: input size torch.Size([8, 5]) output size torch.Size([8, 3])\n",
      "\tIn Model: input size torch.Size([7, 5]) output size torch.Size([7, 3])\n",
      "\tIn Model: input size \tIn Model: input sizetorch.Size([8, 3]) output size torch.Size([8, 1])\n",
      "\tIn Model: input size torch.Size([7, 5]) output size torch.Size([7, 3])\n",
      "\tIn Model: input size  torch.Size([8, 3]) output size torch.Size([8, 1])\n",
      "torch.Size([7, 3]) output size \tIn Model: input size torch.Size([7, 3]) output size torch.Size([7, 1])\n",
      "torch.Size([7, 1])\n",
      "\tIn Model: input size torch.Size([8, 5]) output size torch.Size([8, 3])\n",
      "\tIn Model: input size torch.Size([8, 5]) output size torch.Size([8, 3])\n",
      "\tIn Model: input size torch.Size([8, 3]) output size torch.Size([8, 1])\n",
      "\tIn Model: input size torch.Size([8, 3]) output size torch.Size([8, 1])\n",
      "\tIn Model: input size torch.Size([7, 5]) output size torch.Size([7, 3])\n",
      "\tIn Model: input size torch.Size([7, 5]) output size torch.Size([7, 3])\n",
      "\tIn Model: input size torch.Size([7, 3]) output size torch.Size([7, 1])\n",
      "\tIn Model: input size torch.Size([7, 3]) output size torch.Size([7, 1])\n",
      "tensor([[0.0063, 0.0041, 0.0218, 0.0258, 0.0073],\n",
      "        [0.0060, 0.0039, 0.0207, 0.0244, 0.0069],\n",
      "        [0.0459, 0.0299, 0.1592, 0.1883, 0.0535]], device='cuda:0')\n",
      "Outside: input size torch.Size([30, 5]) output_size torch.Size([30, 1])\n",
      "\tIn Model: input size torch.Size([4, 5]) output size torch.Size([4, 3])\n",
      "\tIn Model: input size torch.Size([4, 5]) output size torch.Size([4, 3])\n",
      "\tIn Model: input size torch.Size([4, 5]) output size torch.Size([4, 3])\n",
      "\tIn Model: input size torch.Size([4, 5]) output size torch.Size([4, 3])\n",
      "\tIn Model: input size torch.Size([3, 5]) output size torch.Size([3, 3])\n",
      "\tIn Model: input size torch.Size([4, 3]) output size torch.Size([4, 1])\n",
      "\tIn Model: input size torch.Size([4, 3]) output size \tIn Model: input size\tIn Model: input size\tIn Model: input sizetorch.Size([4, 1])\n",
      " torch.Size([4, 3]) output size torch.Size([4, 1])\n",
      " torch.Size([4, 3]) output size torch.Size([4, 1])\n",
      "\tIn Model: input size torch.Size([4, 5]) output size torch.Size([4, 3])\n",
      "\tIn Model: input size torch.Size([4, 5]) output size torch.Size([4, 3])\n",
      " \tIn Model: input size\tIn Model: input size torch.Size([4, 3]) output size torch.Size([4, 1])\n",
      " torch.Size([4, 3]) output sizetorch.Size([3, 3]) output size torch.Size([3, 1])\n",
      " torch.Size([4, 1])\n",
      "\tIn Model: input size torch.Size([3, 5]) output size torch.Size([3, 3])\n",
      "\tIn Model: input size torch.Size([3, 3]) output size torch.Size([3, 1])\n",
      "\tIn Model: input size torch.Size([4, 5]) output size\tIn Model: input size torch.Size([4, 5]) output size torch.Size([4, 3])\n",
      "\tIn Model: input size torch.Size([4, 5]) output size torch.Size([4, 3])\n",
      "\tIn Model: input size torch.Size([4, 5]) output size torch.Size([4, 3])\n",
      "\tIn Model: input size \tIn Model: input size torch.Size([4, 5]) output size torch.Size([4, 3])\n",
      "torch.Size([4, 3])\n",
      "\tIn Model: input size  torch.Size([4, 3]) output size torch.Size([4, 1])\n",
      "torch.Size([4, 3]) output size torch.Size([4, 1])\n",
      "\tIn Model: input size torch.Size([3, 5]) output size torch.Size([3, 3])\n",
      "\tIn Model: input size\tIn Model: input size\tIn Model: input size torch.Size([4, 5]) output size torch.Size([4, 3])\n",
      " torch.Size([4, 3]) output size torch.Size([4, 1])\n",
      "\tIn Model: input size\tIn Model: input size torch.Size([4, 3]) output size torch.Size([4, 1])\n",
      " torch.Size([3, 3]) output size torch.Size([3, 1])\n",
      "\tIn Model: input size torch.Size([3, 5]) output size torch.Size([3, 3])\n",
      " torch.Size([4, 3]) output size torch.Size([4, 1])\n",
      "\tIn Model: input size torch.Size([4, 3]) output size torch.Size([4, 1])\n",
      "\tIn Model: input size torch.Size([3, 3]) output size torch.Size([3, 1])\n",
      "tensor([[ 0.0185,  0.0083,  0.0091,  0.0422, -0.0056],\n",
      "        [ 0.0175,  0.0078,  0.0086,  0.0400, -0.0053],\n",
      "        [ 0.1350,  0.0604,  0.0663,  0.3079, -0.0410]], device='cuda:0')\n",
      "Outside: input size torch.Size([30, 5]) output_size torch.Size([30, 1])\n",
      "\tIn Model: input size torch.Size([1, 5]) output size torch.Size([1, 3])\n",
      "\tIn Model: input size torch.Size([1, 5]) output size torch.Size([1, 3])\tIn Model: input size torch.Size([1, 3]) output size torch.Size([1, 1])\n",
      "\n",
      "\tIn Model: input size torch.Size([1, 5]) output size torch.Size([1, 3])\n",
      "\tIn Model: input size\tIn Model: input size torch.Size([1, 5]) output size torch.Size([1, 3])\n",
      "\tIn Model: input size torch.Size([1, 5]) output size torch.Size([1, 3])\n",
      " torch.Size([1, 5]) output size torch.Size([1, 3])\n",
      "\tIn Model: input size torch.Size([1, 5])\tIn Model: input size\tIn Model: input size \tIn Model: input size torch.Size([1, 3]) output size torch.Size([1, 1])\n",
      " torch.Size([1, 3]) output size torch.Size([1, 1])\n",
      "\tIn Model: input size torch.Size([1, 5]) output size torch.Size([1, 3])\n",
      "\tIn Model: input size torch.Size([1, 5]) output size torch.Size([1, 3])\n",
      "\tIn Model: input size\tIn Model: input size torch.Size([1, 3]) output size torch.Size([1, 1])\n",
      "\tIn Model: input size torch.Size([1, 3]) output size torch.Size([1, 1])\n",
      " torch.Size([1, 3]) torch.Size([1, 3]) output size torch.Size([1, 1]) output size torch.Size([1, 1])\n",
      "\n",
      "output size torch.Size([1, 3])\n",
      "\tIn Model: input size\tIn Model: input size\tIn Model: input size torch.Size([1, 5]) output size torch.Size([1, 3])\n",
      " torch.Size([1, 3]) output size torch.Size([1, 3]) output size torch.Size([1, 1])\n",
      " torch.Size([1, 1])\n",
      "\tIn Model: input size torch.Size([1, 3]) output size torch.Size([1, 1])\n",
      "\tIn Model: input size torch.Size([1, 5]) output size torch.Size([1, 3])\n",
      "\tIn Model: input size torch.Size([1, 5]) output size torch.Size([1, 3])\n",
      "\tIn Model: input size\tIn Model: input size\tIn Model: input size\tIn Model: input size torch.Size([1, 5]) output size torch.Size([1, 3])\n",
      "\tIn Model: input size torch.Size([1, 3]) \tIn Model: input size torch.Size([1, 3]) output size torch.Size([1, 1])\n",
      " torch.Size([1, 5]) output size torch.Size([1, 3])\n",
      " torch.Size([1, 5]) output size torch.Size([1, 3])\n",
      "\tIn Model: input size torch.Size([1, 5]) output size torch.Size([1, 3])\n",
      "\tIn Model: input size torch.Size([1, 5]) output size torch.Size([1, 3])\n",
      "\tIn Model: input size torch.Size([1, 5]) output size torch.Size([1, 3])\n",
      "output size torch.Size([1, 1])\n",
      "\tIn Model: input size\tIn Model: input size torch.Size([1, 3]) output size torch.Size([1, 1])\n",
      "\tIn Model: input size torch.Size([1, 3]) output size torch.Size([1, 1])\n",
      " \tIn Model: input size torch.Size([1, 3]) output size torch.Size([1, 1])\n",
      "torch.Size([1, 3]) torch.Size([1, 3]) output size torch.Size([1, 1])\n",
      "\tIn Model: input size output size torch.Size([1, 1])\n",
      "\tIn Model: input size torch.Size([1, 5]) output size torch.Size([1, 3])\n",
      " torch.Size([1, 3]) output size torch.Size([1, 1])\n",
      "\tIn Model: input size torch.Size([1, 3]) output size torch.Size([1, 1])\n",
      "\tIn Model: input size torch.Size([1, 5]) output size torch.Size([1, 3])\n",
      "\tIn Model: input size torch.Size([1, 3]) output size torch.Size([1, 1])\n",
      "tensor([[ 0.0098,  0.0483, -0.0133,  0.0249,  0.0085],\n",
      "        [ 0.0092,  0.0458, -0.0126,  0.0236,  0.0081],\n",
      "        [ 0.0712,  0.3527, -0.0971,  0.1820,  0.0622]], device='cuda:0')\n",
      "Outside: input size torch.Size([10, 5]) output_size torch.Size([10, 1])\n"
     ]
    }
   ],
   "source": [
    "for data in rand_loader:\n",
    "    input = data.to(DEVICE)\n",
    "    output = new_model.compute_path(input, paths=[1, 2])\n",
    "    loss = output.mean().backward()\n",
    "    target_weights = list(new_model.parameters())\n",
    "    print(target_weights[0].grad)\n",
    "    print(\"Outside: input size\", input.size(),\n",
    "          \"output_size\", output.size())"
   ]
  },
  {
   "cell_type": "code",
   "execution_count": 48,
   "metadata": {},
   "outputs": [
    {
     "name": "stdout",
     "output_type": "stream",
     "text": [
      "Let's use 2 GPUs!\n"
     ]
    },
    {
     "data": {
      "text/plain": [
       "DataParallel(\n",
       "  (module): ComplexModel(\n",
       "    (blocks): ModuleList(\n",
       "      (0): Model(\n",
       "        (fc): Linear(in_features=5, out_features=4, bias=True)\n",
       "      )\n",
       "      (1): Model(\n",
       "        (fc): Linear(in_features=4, out_features=2, bias=True)\n",
       "      )\n",
       "    )\n",
       "  )\n",
       ")"
      ]
     },
     "execution_count": 48,
     "metadata": {},
     "output_type": "execute_result"
    }
   ],
   "source": [
    "if torch.cuda.device_count() > 1:\n",
    "    print(\"Let's use\", torch.cuda.device_count(), \"GPUs!\")\n",
    "    # dim = 0 [30, xxx] -> [10, ...], [10, ...], [10, ...] on 3 GPUs\n",
    "    new_model = nn.DataParallel(complex_model1)\n",
    "    \n",
    "\n",
    "new_model.to(device)"
   ]
  },
  {
   "cell_type": "code",
   "execution_count": 49,
   "metadata": {},
   "outputs": [
    {
     "name": "stdout",
     "output_type": "stream",
     "text": [
      "\tIn Model: input size torch.Size([15, 5]) output size torch.Size([15, 4])\n",
      "\tIn Model: input size torch.Size([15, 5]) output size torch.Size([15, 4])\n",
      "\tIn Model: input size torch.Size([15, 4]) output size torch.Size([15, 2])\n",
      "\tIn Model: input size torch.Size([15, 4]) output size torch.Size([15, 2])\n",
      "Outside: input size torch.Size([30, 5]) output_size torch.Size([30, 2])\n",
      "\tIn Model: input size torch.Size([15, 5]) output size torch.Size([15, 4])\n",
      "\tIn Model: input size torch.Size([15, 5]) output size torch.Size([15, 4])\n",
      "\tIn Model: input size\tIn Model: input size torch.Size([15, 4]) output size torch.Size([15, 2])\n",
      " torch.Size([15, 4]) output size torch.Size([15, 2])\n",
      "Outside: input size torch.Size([30, 5]) output_size torch.Size([30, 2])\n",
      "\tIn Model: input size\tIn Model: input size torch.Size([15, 5]) output size torch.Size([15, 4])\n",
      " torch.Size([15, 5]) output size torch.Size([15, 4])\n",
      "\tIn Model: input size\tIn Model: input size torch.Size([15, 4]) output size torch.Size([15, 2])\n",
      " torch.Size([15, 4]) output size torch.Size([15, 2])\n",
      "Outside: input size torch.Size([30, 5]) output_size torch.Size([30, 2])\n",
      "\tIn Model: input size torch.Size([5, 5]) output size \tIn Model: input size torch.Size([5, 5]) output size torch.Size([5, 4])\n",
      "torch.Size([5, 4])\n",
      "\tIn Model: input size\tIn Model: input size torch.Size([5, 4]) output size torch.Size([5, 2])\n",
      " torch.Size([5, 4]) output size torch.Size([5, 2])\n",
      "Outside: input size torch.Size([10, 5]) output_size torch.Size([10, 2])\n"
     ]
    }
   ],
   "source": [
    "for data in rand_loader:\n",
    "    input = data.to(device)\n",
    "    output = new_model(input)\n",
    "    print(\"Outside: input size\", input.size(),\n",
    "          \"output_size\", output.size())\n"
   ]
  },
  {
   "cell_type": "code",
   "execution_count": 25,
   "metadata": {},
   "outputs": [
    {
     "name": "stdout",
     "output_type": "stream",
     "text": [
      "Let's use 2 GPUs!\n"
     ]
    },
    {
     "data": {
      "text/plain": [
       "DataParallel(\n",
       "  (module): ComplexModel(\n",
       "    (blocks): ModuleList(\n",
       "      (0): Model(\n",
       "        (fc): Linear(in_features=5, out_features=4, bias=True)\n",
       "      )\n",
       "      (1): Model(\n",
       "        (fc): Linear(in_features=4, out_features=2, bias=True)\n",
       "      )\n",
       "    )\n",
       "  )\n",
       ")"
      ]
     },
     "execution_count": 25,
     "metadata": {},
     "output_type": "execute_result"
    }
   ],
   "source": [
    "model = Model(mid_size, output_size)\n",
    "model_common1 = Model(input_size, mid_size)\n",
    "model_common2 = Model(input_size, mid_size)\n",
    "complex_model1 = ComplexModel(block=[model_common1, model])\n",
    "complex_model2 = ComplexModel(block=[model_common2, model])\n",
    "if torch.cuda.device_count() > 1:\n",
    "    print(\"Let's use\", torch.cuda.device_count(), \"GPUs!\")\n",
    "    # dim = 0 [30, xxx] -> [10, ...], [10, ...], [10, ...] on 3 GPUs\n",
    "    model1 = nn.DataParallel(complex_model1)\n",
    "    model2 = nn.DataParallel(complex_model2)\n",
    "\n",
    "model1.to(device)\n",
    "model2.to(device)"
   ]
  },
  {
   "cell_type": "code",
   "execution_count": 26,
   "metadata": {},
   "outputs": [
    {
     "name": "stdout",
     "output_type": "stream",
     "text": [
      "\tIn Model: input size torch.Size([15, 5]) output size torch.Size([15, 4])\n",
      "\tIn Model: input size torch.Size([15, 5]) output size torch.Size([15, 4])\n",
      "\tIn Model: input size torch.Size([15, 4]) output size torch.Size([15, 2])\n",
      "\tIn Model: input size torch.Size([15, 4]) output size torch.Size([15, 2])\n",
      "Outside: input size torch.Size([30, 5]) output_size torch.Size([30, 2])\n",
      "\tIn Model: input size torch.Size([15, 5]) output size torch.Size([15, 4])\n",
      "\tIn Model: input size torch.Size([15, 5]) output size torch.Size([15, 4])\n",
      "\tIn Model: input size torch.Size([15, 4]) output size torch.Size([15, 2])\n",
      "\tIn Model: input size torch.Size([15, 4]) output size torch.Size([15, 2])\n",
      "Outside: input size torch.Size([30, 5]) output_size torch.Size([30, 2])\n",
      "\tIn Model: input size torch.Size([15, 5]) output size torch.Size([15, 4])\n",
      "\tIn Model: input size torch.Size([15, 4])\tIn Model: input size torch.Size([15, 5]) output size torch.Size([15, 4])\n",
      " output size torch.Size([15, 2])\n",
      "\tIn Model: input size torch.Size([15, 4]) output size torch.Size([15, 2])\n",
      "Outside: input size torch.Size([30, 5]) output_size torch.Size([30, 2])\n",
      "\tIn Model: input size torch.Size([5, 5]) output size torch.Size([5, 4])\n",
      "\tIn Model: input size torch.Size([5, 5]) output size torch.Size([5, 4])\n",
      "\tIn Model: input size torch.Size([5, 4]) \tIn Model: input sizeoutput size torch.Size([5, 2])\n",
      " torch.Size([5, 4]) output size torch.Size([5, 2])\n",
      "Outside: input size torch.Size([10, 5]) output_size torch.Size([10, 2])\n"
     ]
    }
   ],
   "source": [
    "for data in rand_loader:\n",
    "    input = data.to(device)\n",
    "    output = model1(input)\n",
    "    print(\"Outside: input size\", input.size(),\n",
    "          \"output_size\", output.size())"
   ]
  },
  {
   "cell_type": "code",
   "execution_count": 27,
   "metadata": {},
   "outputs": [
    {
     "name": "stdout",
     "output_type": "stream",
     "text": [
      "\tIn Model: input size torch.Size([15, 5]) \tIn Model: input size torch.Size([15, 5]) output size torch.Size([15, 4])\n",
      "output size torch.Size([15, 4])\n",
      "\tIn Model: input size torch.Size([15, 4]) output size torch.Size([15, 2])\n",
      "\tIn Model: input size torch.Size([15, 4]) output size torch.Size([15, 2])\n",
      "Outside: input size torch.Size([30, 5]) output_size torch.Size([30, 2])\n",
      "\tIn Model: input size torch.Size([15, 5]) output size torch.Size([15, 4])\n",
      "\tIn Model: input size torch.Size([15, 5]) output size \tIn Model: input sizetorch.Size([15, 4])\n",
      " torch.Size([15, 4]) output size torch.Size([15, 2])\n",
      "\tIn Model: input size torch.Size([15, 4]) output size torch.Size([15, 2])\n",
      "Outside: input size torch.Size([30, 5]) output_size torch.Size([30, 2])\n",
      "\tIn Model: input size torch.Size([15, 5]) output size torch.Size([15, 4])\n",
      "\tIn Model: input size\tIn Model: input size torch.Size([15, 5]) output size torch.Size([15, 4]) torch.Size([15, 4]) output size torch.Size([15, 2])\n",
      "\n",
      "\tIn Model: input size torch.Size([15, 4]) output size torch.Size([15, 2])\n",
      "Outside: input size torch.Size([30, 5]) output_size torch.Size([30, 2])\n",
      "\tIn Model: input size torch.Size([5, 5]) output size torch.Size([5, 4])\n",
      "\tIn Model: input size torch.Size([5, 5]) output size torch.Size([5, 4])\n",
      "\tIn Model: input size\tIn Model: input size torch.Size([5, 4]) output size torch.Size([5, 2])\n",
      " torch.Size([5, 4]) output size torch.Size([5, 2])\n",
      "Outside: input size torch.Size([10, 5]) output_size torch.Size([10, 2])\n"
     ]
    }
   ],
   "source": [
    "for data in rand_loader:\n",
    "    input = data.to(device)\n",
    "    output = model2(input)\n",
    "    print(\"Outside: input size\", input.size(),\n",
    "          \"output_size\", output.size())"
   ]
  },
  {
   "cell_type": "code",
   "execution_count": 28,
   "metadata": {},
   "outputs": [
    {
     "data": {
      "text/plain": [
       "device(type='cuda')"
      ]
     },
     "execution_count": 28,
     "metadata": {},
     "output_type": "execute_result"
    }
   ],
   "source": [
    "device"
   ]
  },
  {
   "cell_type": "code",
   "execution_count": 80,
   "metadata": {},
   "outputs": [
    {
     "name": "stdout",
     "output_type": "stream",
     "text": [
      "True\n"
     ]
    }
   ],
   "source": [
    "a = [1, 2, 3, 4, 5, 6]\n",
    "b = 1\n",
    "print(b in a)"
   ]
  },
  {
   "cell_type": "code",
   "execution_count": null,
   "metadata": {},
   "outputs": [],
   "source": []
  }
 ],
 "metadata": {
  "kernelspec": {
   "display_name": "Python 3",
   "language": "python",
   "name": "python3"
  },
  "language_info": {
   "codemirror_mode": {
    "name": "ipython",
    "version": 3
   },
   "file_extension": ".py",
   "mimetype": "text/x-python",
   "name": "python",
   "nbconvert_exporter": "python",
   "pygments_lexer": "ipython3",
   "version": "3.8.5"
  }
 },
 "nbformat": 4,
 "nbformat_minor": 4
}
